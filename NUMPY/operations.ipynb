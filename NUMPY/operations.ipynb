{
 "cells": [
  {
   "cell_type": "code",
   "execution_count": 1,
   "id": "75eaa9c3-2774-4ff0-925b-383b96d41c60",
   "metadata": {},
   "outputs": [],
   "source": [
    "import numpy as np"
   ]
  },
  {
   "cell_type": "code",
   "execution_count": 7,
   "id": "53b7f333-76da-4009-818c-ddb3d994bc60",
   "metadata": {},
   "outputs": [
    {
     "name": "stdout",
     "output_type": "stream",
     "text": [
      "[ 1  2  3  4  5  6  7  8  9 10] \n",
      " [11 12 13 14 15 16 17 18 19 20]\n"
     ]
    }
   ],
   "source": [
    "a1 = np.arange(1,11)\n",
    "a2 = np.arange(11,21)\n",
    "print(a1,\"\\n\",a2)"
   ]
  },
  {
   "cell_type": "code",
   "execution_count": 4,
   "id": "8b23555c-0905-44f3-bfd2-603599918138",
   "metadata": {},
   "outputs": [
    {
     "data": {
      "text/plain": [
       "array([12, 14, 16, 18, 20, 22, 24, 26, 28, 30])"
      ]
     },
     "execution_count": 4,
     "metadata": {},
     "output_type": "execute_result"
    }
   ],
   "source": [
    "a1 + a2"
   ]
  },
  {
   "cell_type": "code",
   "execution_count": 8,
   "id": "f34531ee-37a0-45bc-8a3b-515b2f3682e2",
   "metadata": {},
   "outputs": [
    {
     "data": {
      "text/plain": [
       "array([-10, -10, -10, -10, -10, -10, -10, -10, -10, -10])"
      ]
     },
     "execution_count": 8,
     "metadata": {},
     "output_type": "execute_result"
    }
   ],
   "source": [
    "a1 -a2"
   ]
  },
  {
   "cell_type": "code",
   "execution_count": 10,
   "id": "4a6c7a4f-cedb-4ebe-9afb-e39837fcee79",
   "metadata": {},
   "outputs": [
    {
     "data": {
      "text/plain": [
       "array([21, 22, 23, 24, 25, 26, 27, 28, 29, 30])"
      ]
     },
     "execution_count": 10,
     "metadata": {},
     "output_type": "execute_result"
    }
   ],
   "source": [
    "a2 + 10"
   ]
  },
  {
   "cell_type": "code",
   "execution_count": null,
   "id": "8afc8590-96bd-413f-adb8-5d18a3d85179",
   "metadata": {},
   "outputs": [],
   "source": []
  },
  {
   "cell_type": "markdown",
   "id": "d9c32590-f896-42c6-b9fd-ef2b5a31c562",
   "metadata": {},
   "source": [
    "## deep copy shallow copy"
   ]
  },
  {
   "cell_type": "code",
   "execution_count": 15,
   "id": "b06b7260-0cc2-4344-894e-5d309f5b9d41",
   "metadata": {},
   "outputs": [
    {
     "name": "stdout",
     "output_type": "stream",
     "text": [
      "None\n"
     ]
    }
   ],
   "source": [
    "a3 = a1\n",
    "print(a3.base)"
   ]
  },
  {
   "cell_type": "code",
   "execution_count": 28,
   "id": "ea63e60a-d32f-4b6b-a145-b419c645852e",
   "metadata": {},
   "outputs": [
    {
     "data": {
      "text/plain": [
       "array([ 41, 100,  43,  44,  45,  46,  47,  48,  49,  50])"
      ]
     },
     "execution_count": 28,
     "metadata": {},
     "output_type": "execute_result"
    }
   ],
   "source": [
    "a3[1] =100\n",
    "a3"
   ]
  },
  {
   "cell_type": "code",
   "execution_count": 29,
   "id": "633031c5-1a38-41e7-a83d-4527a0a0a21d",
   "metadata": {},
   "outputs": [
    {
     "data": {
      "text/plain": [
       "array([ 1,  2,  3,  4,  5,  6,  7,  8,  9, 10])"
      ]
     },
     "execution_count": 29,
     "metadata": {},
     "output_type": "execute_result"
    }
   ],
   "source": [
    "a1"
   ]
  },
  {
   "cell_type": "code",
   "execution_count": null,
   "id": "20775aab-f171-4262-8d90-88a228e7ffe7",
   "metadata": {},
   "outputs": [],
   "source": []
  },
  {
   "cell_type": "code",
   "execution_count": 30,
   "id": "607525e6-f676-4941-b6ff-4405535441f2",
   "metadata": {},
   "outputs": [
    {
     "name": "stdout",
     "output_type": "stream",
     "text": [
      "None\n"
     ]
    }
   ],
   "source": [
    "a3 = a1.copy()\n",
    "print(a3.base)"
   ]
  },
  {
   "cell_type": "code",
   "execution_count": 31,
   "id": "ac29d462-b3a9-41a4-b1fa-6ee2917ee6ad",
   "metadata": {},
   "outputs": [
    {
     "data": {
      "text/plain": [
       "array([   1, 1000,    3,    4,    5,    6,    7,    8,    9,   10])"
      ]
     },
     "execution_count": 31,
     "metadata": {},
     "output_type": "execute_result"
    }
   ],
   "source": [
    "a3[1] = 1000\n",
    "a3"
   ]
  },
  {
   "cell_type": "code",
   "execution_count": 32,
   "id": "d4763557-05b4-48a1-b245-819210e13eb7",
   "metadata": {
    "scrolled": true
   },
   "outputs": [
    {
     "data": {
      "text/plain": [
       "array([ 1,  2,  3,  4,  5,  6,  7,  8,  9, 10])"
      ]
     },
     "execution_count": 32,
     "metadata": {},
     "output_type": "execute_result"
    }
   ],
   "source": [
    "a1"
   ]
  },
  {
   "cell_type": "code",
   "execution_count": null,
   "id": "ed0d7ac6-71ee-4c6f-9143-e8bfc3d795cc",
   "metadata": {},
   "outputs": [],
   "source": []
  },
  {
   "cell_type": "code",
   "execution_count": 33,
   "id": "279964cb-e5e5-42ff-a941-ba60dc120560",
   "metadata": {},
   "outputs": [
    {
     "name": "stdout",
     "output_type": "stream",
     "text": [
      "[ 1  2  3  4  5  6  7  8  9 10]\n"
     ]
    }
   ],
   "source": [
    "a5 = a1.view()\n",
    "print(a5.base)"
   ]
  },
  {
   "cell_type": "code",
   "execution_count": 34,
   "id": "f6c77f63-2938-4452-bc58-5c0c9f195e2c",
   "metadata": {},
   "outputs": [
    {
     "data": {
      "text/plain": [
       "array([   1, 1000,    3,    4,    5,    6,    7,    8,    9,   10])"
      ]
     },
     "execution_count": 34,
     "metadata": {},
     "output_type": "execute_result"
    }
   ],
   "source": [
    "a5[1] =1000\n",
    "a5"
   ]
  },
  {
   "cell_type": "code",
   "execution_count": 35,
   "id": "7e4cbd2f-24f7-4255-9082-332e26ee5179",
   "metadata": {
    "scrolled": true
   },
   "outputs": [
    {
     "data": {
      "text/plain": [
       "array([   1, 1000,    3,    4,    5,    6,    7,    8,    9,   10])"
      ]
     },
     "execution_count": 35,
     "metadata": {},
     "output_type": "execute_result"
    }
   ],
   "source": [
    "a1"
   ]
  },
  {
   "cell_type": "code",
   "execution_count": null,
   "id": "bf70edcc-2975-407d-89c3-30f4d6cee1a9",
   "metadata": {},
   "outputs": [],
   "source": []
  }
 ],
 "metadata": {
  "kernelspec": {
   "display_name": "Python 3 (ipykernel)",
   "language": "python",
   "name": "python3"
  },
  "language_info": {
   "codemirror_mode": {
    "name": "ipython",
    "version": 3
   },
   "file_extension": ".py",
   "mimetype": "text/x-python",
   "name": "python",
   "nbconvert_exporter": "python",
   "pygments_lexer": "ipython3",
   "version": "3.13.5"
  }
 },
 "nbformat": 4,
 "nbformat_minor": 5
}
