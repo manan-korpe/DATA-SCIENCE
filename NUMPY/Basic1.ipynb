{
 "cells": [
  {
   "cell_type": "code",
   "execution_count": 45,
   "id": "dbf161b4-7f23-4cf6-9c14-12c196d0d307",
   "metadata": {},
   "outputs": [],
   "source": [
    "import numpy as np\n",
    "\n",
    "a1 = np.random.randint(1,20,size=(3, 4))"
   ]
  },
  {
   "cell_type": "code",
   "execution_count": 46,
   "id": "771c0282-4b6a-4b32-9be0-d686be74e926",
   "metadata": {},
   "outputs": [
    {
     "data": {
      "text/plain": [
       "array([[15, 18, 18, 19],\n",
       "       [15, 14,  7, 12],\n",
       "       [ 6,  8, 10,  1]], dtype=int32)"
      ]
     },
     "execution_count": 46,
     "metadata": {},
     "output_type": "execute_result"
    }
   ],
   "source": [
    "a1"
   ]
  },
  {
   "cell_type": "markdown",
   "id": "9d1e16ac-b8ce-475b-8d5a-ac464963e3ce",
   "metadata": {
    "jp-MarkdownHeadingCollapsed": true
   },
   "source": [
    "## create Array"
   ]
  },
  {
   "cell_type": "code",
   "execution_count": 9,
   "id": "ff21b9e3-6549-47bf-b87c-206ca93f8831",
   "metadata": {},
   "outputs": [
    {
     "data": {
      "text/plain": [
       "array([10, 20, 30, 40])"
      ]
     },
     "execution_count": 9,
     "metadata": {},
     "output_type": "execute_result"
    }
   ],
   "source": [
    "arr = np.array([10,20,30,40])\n",
    "arr"
   ]
  },
  {
   "cell_type": "code",
   "execution_count": 20,
   "id": "847e2f63-6171-4ffe-997b-77cccf0988f9",
   "metadata": {},
   "outputs": [
    {
     "data": {
      "text/plain": [
       "array([ 1,  3,  5,  7, 10])"
      ]
     },
     "execution_count": 20,
     "metadata": {},
     "output_type": "execute_result"
    }
   ],
   "source": [
    "# linear space between each element in array\n",
    "# np.linspace(start,end,total_Elements)\n",
    "\n",
    "arr = np.linspace(1,10,5, dtype=\"int\")\n",
    "arr"
   ]
  },
  {
   "cell_type": "code",
   "execution_count": 19,
   "id": "9fc40f89-bc71-4898-b225-01edc8ccb925",
   "metadata": {},
   "outputs": [
    {
     "name": "stdout",
     "output_type": "stream",
     "text": [
      "[[0. 0. 0. 0. 0.]\n",
      " [0. 0. 0. 0. 0.]]\n"
     ]
    },
    {
     "data": {
      "text/plain": [
       "array([0., 0., 0., 0., 0., 0., 0., 0., 0., 0.])"
      ]
     },
     "execution_count": 19,
     "metadata": {},
     "output_type": "execute_result"
    }
   ],
   "source": [
    "# np.zeros((rows, cols))\n",
    "arr = np.zeros((2,5))\n",
    "print(arr)\n",
    "\n",
    "arr = np.zeros(10)\n",
    "arr"
   ]
  },
  {
   "cell_type": "code",
   "execution_count": 17,
   "id": "2a1b2cbc-bdfd-424f-b773-e295400e7827",
   "metadata": {},
   "outputs": [
    {
     "name": "stdout",
     "output_type": "stream",
     "text": [
      "[[1. 1. 1. 1. 1.]\n",
      " [1. 1. 1. 1. 1.]]\n"
     ]
    },
    {
     "data": {
      "text/plain": [
       "array([1., 1., 1., 1., 1., 1., 1., 1., 1., 1.])"
      ]
     },
     "execution_count": 17,
     "metadata": {},
     "output_type": "execute_result"
    }
   ],
   "source": [
    "# np.ones((rows, cols))\n",
    "arr = np.ones((2,5))\n",
    "print(arr)\n",
    "\n",
    "arr = np.ones(10)\n",
    "arr"
   ]
  },
  {
   "cell_type": "code",
   "execution_count": 24,
   "id": "9ca09dad-a561-4dea-9589-3867f099947f",
   "metadata": {},
   "outputs": [
    {
     "data": {
      "text/plain": [
       "array([[5, 5, 5],\n",
       "       [5, 5, 5]])"
      ]
     },
     "execution_count": 24,
     "metadata": {},
     "output_type": "execute_result"
    }
   ],
   "source": [
    "# np.full((rows, cols), field values)\n",
    "arr = np.full((2,3),5,order=\"F\")\n",
    "arr"
   ]
  },
  {
   "cell_type": "code",
   "execution_count": 33,
   "id": "81102574-b2ef-462b-9837-3afd26aba499",
   "metadata": {},
   "outputs": [
    {
     "data": {
      "text/plain": [
       "array([[0., 1., 0., 0.],\n",
       "       [0., 0., 1., 0.],\n",
       "       [0., 0., 0., 1.],\n",
       "       [0., 0., 0., 0.]])"
      ]
     },
     "execution_count": 33,
     "metadata": {},
     "output_type": "execute_result"
    }
   ],
   "source": [
    "# np.eye(rows, cols, key=how much '1' value need to be shifted right)\n",
    "arr = np.eye(4,k=1)\n",
    "arr"
   ]
  },
  {
   "cell_type": "markdown",
   "id": "26048613-54bc-4523-9cc7-e208b0cb5606",
   "metadata": {},
   "source": [
    "\n"
   ]
  },
  {
   "cell_type": "markdown",
   "id": "4421a8a1-e7a9-419a-aea2-8da7e6c3d204",
   "metadata": {
    "jp-MarkdownHeadingCollapsed": true
   },
   "source": [
    "## Attribute of Array"
   ]
  },
  {
   "cell_type": "code",
   "execution_count": 47,
   "id": "9738d32c-ac83-4e90-aaed-1c3d1312e681",
   "metadata": {},
   "outputs": [],
   "source": [
    "arr = a1"
   ]
  },
  {
   "cell_type": "code",
   "execution_count": 48,
   "id": "c1933923-2626-484a-8d2f-7a9704e81557",
   "metadata": {},
   "outputs": [
    {
     "data": {
      "text/plain": [
       "(3, 4)"
      ]
     },
     "execution_count": 48,
     "metadata": {},
     "output_type": "execute_result"
    }
   ],
   "source": [
    "# dimention of array\n",
    "arr.shape"
   ]
  },
  {
   "cell_type": "code",
   "execution_count": 49,
   "id": "d90c8cc6-cfff-458e-8b8b-3962b8fafd51",
   "metadata": {},
   "outputs": [
    {
     "data": {
      "text/plain": [
       "12"
      ]
     },
     "execution_count": 49,
     "metadata": {},
     "output_type": "execute_result"
    }
   ],
   "source": [
    "# total no elements\n",
    "arr.size"
   ]
  },
  {
   "cell_type": "code",
   "execution_count": 50,
   "id": "ceaf0bc1-1cea-482d-b199-88546cfe5e4a",
   "metadata": {},
   "outputs": [
    {
     "data": {
      "text/plain": [
       "2"
      ]
     },
     "execution_count": 50,
     "metadata": {},
     "output_type": "execute_result"
    }
   ],
   "source": [
    "# get dimention of array\n",
    "arr.ndim"
   ]
  },
  {
   "cell_type": "code",
   "execution_count": 51,
   "id": "722d6fcb-caa4-4aa8-977c-22c51eec2398",
   "metadata": {},
   "outputs": [
    {
     "data": {
      "text/plain": [
       "dtype('int32')"
      ]
     },
     "execution_count": 51,
     "metadata": {},
     "output_type": "execute_result"
    }
   ],
   "source": [
    "# get data type of array\n",
    "arr.dtype"
   ]
  },
  {
   "cell_type": "markdown",
   "id": "d420e901-ca87-4c6d-9dac-5b237a09d341",
   "metadata": {
    "jp-MarkdownHeadingCollapsed": true
   },
   "source": [
    "## Indexing & Slicing"
   ]
  },
  {
   "cell_type": "code",
   "execution_count": 53,
   "id": "60e60b14-cc39-4188-89d1-40dc604d53e0",
   "metadata": {},
   "outputs": [
    {
     "data": {
      "text/plain": [
       "array([15, 14,  7, 12], dtype=int32)"
      ]
     },
     "execution_count": 53,
     "metadata": {},
     "output_type": "execute_result"
    }
   ],
   "source": [
    "arr[1]"
   ]
  },
  {
   "cell_type": "code",
   "execution_count": 54,
   "id": "ea89f8fa-4f46-45c0-859d-0017a23647f0",
   "metadata": {},
   "outputs": [
    {
     "data": {
      "text/plain": [
       "array([14,  7], dtype=int32)"
      ]
     },
     "execution_count": 54,
     "metadata": {},
     "output_type": "execute_result"
    }
   ],
   "source": [
    "arr[1, 1:3]"
   ]
  },
  {
   "cell_type": "code",
   "execution_count": 60,
   "id": "4ea952c2-80ed-4bb0-baa9-afc061d39096",
   "metadata": {},
   "outputs": [
    {
     "name": "stdout",
     "output_type": "stream",
     "text": [
      "[[False  True  True False]\n",
      " [False  True False  True]\n",
      " [ True  True  True False]]\n"
     ]
    },
    {
     "data": {
      "text/plain": [
       "array([18, 18, 14, 12,  6,  8, 10], dtype=int32)"
      ]
     },
     "execution_count": 60,
     "metadata": {},
     "output_type": "execute_result"
    }
   ],
   "source": [
    "# boolean indexing \n",
    "bi = arr%2==0\n",
    "print(bi)\n",
    "bi = arr[bi]\n",
    "bi"
   ]
  },
  {
   "cell_type": "code",
   "execution_count": 62,
   "id": "070eb36b-8a2f-4557-bc13-b917d503f846",
   "metadata": {},
   "outputs": [
    {
     "data": {
      "text/plain": [
       "array([10, 14], dtype=int32)"
      ]
     },
     "execution_count": 62,
     "metadata": {},
     "output_type": "execute_result"
    }
   ],
   "source": [
    "# Fancy indexing\n",
    "fi = arr[[2,1],[2,1]]\n",
    "fi"
   ]
  },
  {
   "cell_type": "markdown",
   "id": "f2c0ab42-67c1-43c7-a0bd-18661db61247",
   "metadata": {
    "jp-MarkdownHeadingCollapsed": true
   },
   "source": [
    "## Reshaping"
   ]
  },
  {
   "cell_type": "code",
   "execution_count": 66,
   "id": "f2653c75-0edd-4130-87a7-2ab0c2d9dce0",
   "metadata": {},
   "outputs": [
    {
     "data": {
      "text/plain": [
       "array([[15, 18],\n",
       "       [18, 19],\n",
       "       [15, 14],\n",
       "       [ 7, 12],\n",
       "       [ 6,  8],\n",
       "       [10,  1]], dtype=int32)"
      ]
     },
     "execution_count": 66,
     "metadata": {},
     "output_type": "execute_result"
    }
   ],
   "source": [
    "arr = a1.reshape(6,2)\n",
    "arr"
   ]
  },
  {
   "cell_type": "code",
   "execution_count": 67,
   "id": "e19b83d3-02e4-45f7-b418-01406ebc752c",
   "metadata": {},
   "outputs": [
    {
     "data": {
      "text/plain": [
       "array([15, 18, 18, 19, 15, 14,  7, 12,  6,  8, 10,  1], dtype=int32)"
      ]
     },
     "execution_count": 67,
     "metadata": {},
     "output_type": "execute_result"
    }
   ],
   "source": [
    "# create vactore 1-D array, it's more memory-efficient.\n",
    "# make View not copy means change maid a2 effects a1 \n",
    "\n",
    "a2 = a1.ravel()\n",
    "a2"
   ]
  },
  {
   "cell_type": "code",
   "execution_count": 68,
   "id": "abc65cb6-af9a-4066-9c58-c6a3d56b2da2",
   "metadata": {},
   "outputs": [
    {
     "data": {
      "text/plain": [
       "array([15, 18, 18, 19, 15, 14,  7, 12,  6,  8, 10,  1], dtype=int32)"
      ]
     },
     "execution_count": 68,
     "metadata": {},
     "output_type": "execute_result"
    }
   ],
   "source": [
    "#  create vactore 1-D array, Slightly slower\n",
    "# make Copy not view \n",
    "\n",
    "arr = a1.flatten()\n",
    "arr"
   ]
  },
  {
   "cell_type": "code",
   "execution_count": 73,
   "id": "924f75df-f9d4-4471-9415-5e7282774c8a",
   "metadata": {},
   "outputs": [
    {
     "data": {
      "text/plain": [
       "array([[15, 15,  6],\n",
       "       [18, 14,  8],\n",
       "       [18,  7, 10],\n",
       "       [19, 12,  1]], dtype=int32)"
      ]
     },
     "execution_count": 73,
     "metadata": {},
     "output_type": "execute_result"
    }
   ],
   "source": [
    "# convert row into col and col into row\n",
    "arr = a1.transpose()\n",
    "arr"
   ]
  },
  {
   "cell_type": "code",
   "execution_count": 79,
   "id": "3a84d4ac-8742-4c8c-9c84-17854a17d6f0",
   "metadata": {},
   "outputs": [
    {
     "data": {
      "text/plain": [
       "array([[15, 18, 18, 19],\n",
       "       [15, 14,  7, 12],\n",
       "       [ 6,  8, 10,  1]], dtype=int32)"
      ]
     },
     "execution_count": 79,
     "metadata": {},
     "output_type": "execute_result"
    }
   ],
   "source": [
    "np.swapaxes(arr,1, 0)"
   ]
  },
  {
   "cell_type": "markdown",
   "id": "2ca3c1b3-3338-4a8b-8229-ba52bcd42355",
   "metadata": {},
   "source": [
    "## stack and spliting"
   ]
  },
  {
   "cell_type": "code",
   "execution_count": 82,
   "id": "edb14da9-56a3-458f-b706-c448f075f9b9",
   "metadata": {},
   "outputs": [
    {
     "data": {
      "text/plain": [
       "array([[1, 4],\n",
       "       [2, 5],\n",
       "       [3, 6]])"
      ]
     },
     "execution_count": 82,
     "metadata": {},
     "output_type": "execute_result"
    }
   ],
   "source": [
    "#join or merge arrays,  using axis,  default axis=0\n",
    "a = np.array([1, 2, 3])\n",
    "b = np.array([4, 5, 6])\n",
    "\n",
    "c = np.stack((a, b),axis=1)\n",
    "c"
   ]
  },
  {
   "cell_type": "code",
   "execution_count": 87,
   "id": "1ad20f4e-e8b9-48f4-9291-d01d32f8514a",
   "metadata": {},
   "outputs": [
    {
     "data": {
      "text/plain": [
       "array([[ 1,  2,  3],\n",
       "       [ 4,  5,  6],\n",
       "       [40, 50, 60]])"
      ]
     },
     "execution_count": 87,
     "metadata": {},
     "output_type": "execute_result"
    }
   ],
   "source": [
    "d = np.array([40, 50, 60])\n",
    "c = np.vstack((a, b, d))\n",
    "c"
   ]
  },
  {
   "cell_type": "code",
   "execution_count": 88,
   "id": "2764a6c7-35b7-4eac-963f-37b1e665c2ea",
   "metadata": {},
   "outputs": [
    {
     "data": {
      "text/plain": [
       "array([ 1,  2,  3,  4,  5,  6, 40, 50, 60])"
      ]
     },
     "execution_count": 88,
     "metadata": {},
     "output_type": "execute_result"
    }
   ],
   "source": [
    "# makes vactor 1d array\n",
    "c = np.hstack((a, b, d))\n",
    "c"
   ]
  },
  {
   "cell_type": "code",
   "execution_count": null,
   "id": "b90a6538-bbfe-493e-bc35-476cede41904",
   "metadata": {},
   "outputs": [],
   "source": []
  }
 ],
 "metadata": {
  "kernelspec": {
   "display_name": "Python 3 (ipykernel)",
   "language": "python",
   "name": "python3"
  },
  "language_info": {
   "codemirror_mode": {
    "name": "ipython",
    "version": 3
   },
   "file_extension": ".py",
   "mimetype": "text/x-python",
   "name": "python",
   "nbconvert_exporter": "python",
   "pygments_lexer": "ipython3",
   "version": "3.13.5"
  }
 },
 "nbformat": 4,
 "nbformat_minor": 5
}
