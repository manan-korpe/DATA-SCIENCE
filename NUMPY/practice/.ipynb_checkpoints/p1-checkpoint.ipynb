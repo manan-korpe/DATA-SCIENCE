{
 "cells": [
  {
   "cell_type": "code",
   "execution_count": 1,
   "id": "65f3539c-0247-461e-ab2e-cf29ea6c3e5c",
   "metadata": {},
   "outputs": [],
   "source": [
    "import numpy as np"
   ]
  },
  {
   "cell_type": "code",
   "execution_count": 3,
   "id": "28015a79-77f0-473b-a714-ccf37eb4cc5e",
   "metadata": {},
   "outputs": [
    {
     "name": "stdout",
     "output_type": "stream",
     "text": [
      "[ 1 20 30 40 50 60 70]\n",
      "<class 'numpy.ndarray'>\n"
     ]
    }
   ],
   "source": [
    "l1 = [1,20,30,40,50,60,70]\n",
    "arr = np.array(l1)\n",
    "print(arr)\n",
    "print(type(arr))"
   ]
  },
  {
   "cell_type": "markdown",
   "id": "c843a9dd-7278-41e6-961c-4a7cf4107580",
   "metadata": {},
   "source": [
    "### 1. Create a Numpy array filled with all zeros"
   ]
  },
  {
   "cell_type": "code",
   "execution_count": 10,
   "id": "2f659ebc-0793-4d35-9f8b-e2966b51300a",
   "metadata": {},
   "outputs": [
    {
     "name": "stdout",
     "output_type": "stream",
     "text": [
      "[[0. 0. 0. 0. 0. 0. 0. 0. 0. 0.]\n",
      " [0. 0. 0. 0. 0. 0. 0. 0. 0. 0.]]\n",
      "2\n"
     ]
    }
   ],
   "source": [
    "arr = np.zeros((2,10))\n",
    "print(arr)\n",
    "print(len(arr))"
   ]
  },
  {
   "cell_type": "markdown",
   "id": "504ffb19-a5dc-458a-8715-126e1e8c091f",
   "metadata": {},
   "source": [
    "### Create a Numpy array filled with all ones"
   ]
  },
  {
   "cell_type": "code",
   "execution_count": 12,
   "id": "ddb866e1-47fd-40f0-baed-6bd613df0e66",
   "metadata": {},
   "outputs": [
    {
     "name": "stdout",
     "output_type": "stream",
     "text": [
      "[[1 1 1]\n",
      " [1 1 1]]\n"
     ]
    }
   ],
   "source": [
    "arr = np.ones((2,3), dtype=\"int\")\n",
    "print(arr)"
   ]
  },
  {
   "cell_type": "markdown",
   "id": "d6c8e4ad-a31d-436c-9e3b-d32cd59191c3",
   "metadata": {},
   "source": [
    "### Check whether a Numpy array contains a specified row"
   ]
  },
  {
   "cell_type": "code",
   "execution_count": 16,
   "id": "289261ca-6e1c-4268-8911-028470839da5",
   "metadata": {},
   "outputs": [
    {
     "name": "stdout",
     "output_type": "stream",
     "text": [
      "True\n",
      "False\n"
     ]
    }
   ],
   "source": [
    "arr = np.array([[10,20],[30,40]])\n",
    "l1 = [30,40]\n",
    "l2 = [22,40]\n",
    "print(l1 in arr.tolist())\n",
    "print(l2 in arr.tolist())"
   ]
  },
  {
   "cell_type": "markdown",
   "id": "10ccae02-6238-4d7b-a69c-73204d216a52",
   "metadata": {},
   "source": [
    "### Remove rows in Numpy array that contains non-numeric values"
   ]
  },
  {
   "cell_type": "code",
   "execution_count": 34,
   "id": "5ac71cff-278e-432c-990c-52912452a7c0",
   "metadata": {},
   "outputs": [
    {
     "name": "stdout",
     "output_type": "stream",
     "text": [
      "[[10.5 22.5  3.8]]\n"
     ]
    }
   ],
   "source": [
    "n_arr = np.array([[10.5, 22.5, 3.8],[41, np.nan, np.nan]])\n",
    "newArray = n_arr[~np.isnan(n_arr).any(axis=1)]\n",
    "print(newArray)"
   ]
  },
  {
   "cell_type": "markdown",
   "id": "d6246878-4de1-44ce-adaf-6cac11d23c2c",
   "metadata": {},
   "source": [
    "### Remove single-dimensional entries from shape of an array"
   ]
  },
  {
   "cell_type": "code",
   "execution_count": 40,
   "id": "c8e2f936-3b3f-4ddf-bb22-0b5ea20d8424",
   "metadata": {},
   "outputs": [
    {
     "name": "stdout",
     "output_type": "stream",
     "text": [
      "(1, 1, 2, 3)\n",
      "[[2 2 2]\n",
      " [2 2 2]]\n",
      "(2, 3)\n"
     ]
    }
   ],
   "source": [
    "arr = np.array([[[[2,2,2],[2,2,2]]]])\n",
    "print(arr.shape)\n",
    "\n",
    "output = np.squeeze(arr)\n",
    "\n",
    "print(output)\n",
    "print(output.shape)"
   ]
  },
  {
   "cell_type": "markdown",
   "id": "d969788e-8ea1-40c7-9a03-d2119c02ff85",
   "metadata": {},
   "source": [
    "### Find the number of occurrences of a sequence in a NumPy array"
   ]
  },
  {
   "cell_type": "code",
   "execution_count": 52,
   "id": "bdc6bd31-8937-4154-b77e-ed26eac74c46",
   "metadata": {},
   "outputs": [
    {
     "name": "stdout",
     "output_type": "stream",
     "text": [
      "4\n"
     ]
    }
   ],
   "source": [
    "arr = np.array([[2,8,9,4],\n",
    "       [9,4,9,4],\n",
    "       [4,5,9,7],\n",
    "       [2,9,4,3]])\n",
    "\n",
    "output = repr(arr).count(\"9, 4\")\n",
    "print(output)"
   ]
  },
  {
   "cell_type": "code",
   "execution_count": null,
   "id": "276c2a7b-8923-499e-a7e9-d7cc12820f8f",
   "metadata": {},
   "outputs": [],
   "source": []
  }
 ],
 "metadata": {
  "kernelspec": {
   "display_name": "Python 3 (ipykernel)",
   "language": "python",
   "name": "python3"
  },
  "language_info": {
   "codemirror_mode": {
    "name": "ipython",
    "version": 3
   },
   "file_extension": ".py",
   "mimetype": "text/x-python",
   "name": "python",
   "nbconvert_exporter": "python",
   "pygments_lexer": "ipython3",
   "version": "3.13.5"
  }
 },
 "nbformat": 4,
 "nbformat_minor": 5
}
